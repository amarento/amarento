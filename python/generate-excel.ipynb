{
 "cells": [
  {
   "cell_type": "code",
   "execution_count": 19,
   "metadata": {},
   "outputs": [],
   "source": [
    "import numpy as np\n",
    "import random\n",
    "import pandas as pd"
   ]
  },
  {
   "cell_type": "code",
   "execution_count": 20,
   "metadata": {},
   "outputs": [],
   "source": [
    "def generate_phone_number():\n",
    "    return \"+628\" + ''.join(random.choices('123456789', k=10))\n"
   ]
  },
  {
   "cell_type": "code",
   "execution_count": 21,
   "metadata": {},
   "outputs": [],
   "source": [
    "firstNames =[ \"John\", \"Jane\", \"Doe\", \"Alice\", \"Bob\", \"Charlie\", \"David\", \"Eve\", \"Frank\", \"Grace\", \"Heidi\", \"Ivan\", \"Judy\", \"Kevin\", \"Linda\", \"Michael\", \"Nancy\", \"Oscar\", \"Pamela\", \"Quincy\", \"Randy\", \"Sally\", \"Tom\", \"Ursula\", \"Victor\", \"Wendy\", \"Xavier\", \"Yvonne\", \"Zach\"]\t\n",
    "lastNames = [\"Smith\", \"Johnson\", \"Williams\", \"Jones\", \"Brown\", \"Davis\", \"Miller\", \"Wilson\", \"Moore\", \"Taylor\", \"Anderson\", \"Thomas\", \"Jackson\", \"White\", \"Harris\", \"Martin\", \"Thompson\", \"Garcia\", \"Martinez\", \"Robinson\", \"Clark\", \"Rodriguez\", \"Lewis\", \"Lee\", \"Walker\", \"Hall\", \"Allen\", \"Young\", \"Hernandez\", \"King\"]\n",
    "streets = [\"Jl. A\", \"Jl. B\", \"Jl. C\", \"Jl. D\", \"Jl. E\", \"Jl. F\", \"Jl. G\", \"Jl. H\", \"Jl. I\", \"Jl. J\", \"Jl. K\", \"Jl. L\", \"Jl. M\", \"Jl. N\", \"Jl. O\", \"Jl. P\", \"Jl. Q\", \"Jl. R\", \"Jl. S\", \"Jl. T\", \"Jl. U\", \"Jl. V\", \"Jl. W\", \"Jl. X\", \"Jl. Y\", \"Jl. Z\"]\t\n"
   ]
  },
  {
   "cell_type": "code",
   "execution_count": 22,
   "metadata": {},
   "outputs": [],
   "source": [
    "\n",
    "data = {\n",
    "    'names': [random.choice(firstNames) + \" \" + random.choice(lastNames) for i in range(100)],\n",
    "    'address': [random.choice(streets) + \" \" + str(random.randint(1, 100)) for i in range(100)],\n",
    "    'waNumber': [generate_phone_number() for i in range(100)],\n",
    "    'nRSVP': [random.choice([2,2,2,2,2,2,2,3,3,4,4]) for i in range(100)]\n",
    "}\n",
    "\n",
    "df = pd.DataFrame(data)"
   ]
  },
  {
   "cell_type": "code",
   "execution_count": 23,
   "metadata": {},
   "outputs": [],
   "source": [
    "file_path = 'guesstlist.xlsx'\n",
    "df.to_excel(file_path, index=False)"
   ]
  },
  {
   "cell_type": "code",
   "execution_count": 24,
   "metadata": {},
   "outputs": [
    {
     "data": {
      "text/html": [
       "<div>\n",
       "<style scoped>\n",
       "    .dataframe tbody tr th:only-of-type {\n",
       "        vertical-align: middle;\n",
       "    }\n",
       "\n",
       "    .dataframe tbody tr th {\n",
       "        vertical-align: top;\n",
       "    }\n",
       "\n",
       "    .dataframe thead th {\n",
       "        text-align: right;\n",
       "    }\n",
       "</style>\n",
       "<table border=\"1\" class=\"dataframe\">\n",
       "  <thead>\n",
       "    <tr style=\"text-align: right;\">\n",
       "      <th></th>\n",
       "      <th>names</th>\n",
       "      <th>address</th>\n",
       "      <th>waNumber</th>\n",
       "      <th>nRSVP</th>\n",
       "    </tr>\n",
       "  </thead>\n",
       "  <tbody>\n",
       "    <tr>\n",
       "      <th>0</th>\n",
       "      <td>Frank Smith</td>\n",
       "      <td>Jl. N 3</td>\n",
       "      <td>+6285131839229</td>\n",
       "      <td>2</td>\n",
       "    </tr>\n",
       "    <tr>\n",
       "      <th>1</th>\n",
       "      <td>Victor Lewis</td>\n",
       "      <td>Jl. N 78</td>\n",
       "      <td>+6284394399748</td>\n",
       "      <td>2</td>\n",
       "    </tr>\n",
       "    <tr>\n",
       "      <th>2</th>\n",
       "      <td>Yvonne Hernandez</td>\n",
       "      <td>Jl. A 95</td>\n",
       "      <td>+6285873213361</td>\n",
       "      <td>2</td>\n",
       "    </tr>\n",
       "    <tr>\n",
       "      <th>3</th>\n",
       "      <td>Ivan Clark</td>\n",
       "      <td>Jl. D 40</td>\n",
       "      <td>+6289555965277</td>\n",
       "      <td>2</td>\n",
       "    </tr>\n",
       "    <tr>\n",
       "      <th>4</th>\n",
       "      <td>Quincy Young</td>\n",
       "      <td>Jl. U 12</td>\n",
       "      <td>+6289789426381</td>\n",
       "      <td>2</td>\n",
       "    </tr>\n",
       "    <tr>\n",
       "      <th>...</th>\n",
       "      <td>...</td>\n",
       "      <td>...</td>\n",
       "      <td>...</td>\n",
       "      <td>...</td>\n",
       "    </tr>\n",
       "    <tr>\n",
       "      <th>95</th>\n",
       "      <td>Alice Williams</td>\n",
       "      <td>Jl. Q 93</td>\n",
       "      <td>+6287194196367</td>\n",
       "      <td>2</td>\n",
       "    </tr>\n",
       "    <tr>\n",
       "      <th>96</th>\n",
       "      <td>Alice White</td>\n",
       "      <td>Jl. V 95</td>\n",
       "      <td>+6289243193237</td>\n",
       "      <td>3</td>\n",
       "    </tr>\n",
       "    <tr>\n",
       "      <th>97</th>\n",
       "      <td>Grace Martinez</td>\n",
       "      <td>Jl. P 41</td>\n",
       "      <td>+6282857782156</td>\n",
       "      <td>2</td>\n",
       "    </tr>\n",
       "    <tr>\n",
       "      <th>98</th>\n",
       "      <td>John Lewis</td>\n",
       "      <td>Jl. Z 20</td>\n",
       "      <td>+6282258644532</td>\n",
       "      <td>2</td>\n",
       "    </tr>\n",
       "    <tr>\n",
       "      <th>99</th>\n",
       "      <td>Ursula Anderson</td>\n",
       "      <td>Jl. V 84</td>\n",
       "      <td>+6288857764356</td>\n",
       "      <td>2</td>\n",
       "    </tr>\n",
       "  </tbody>\n",
       "</table>\n",
       "<p>100 rows × 4 columns</p>\n",
       "</div>"
      ],
      "text/plain": [
       "               names   address        waNumber  nRSVP\n",
       "0        Frank Smith   Jl. N 3  +6285131839229      2\n",
       "1       Victor Lewis  Jl. N 78  +6284394399748      2\n",
       "2   Yvonne Hernandez  Jl. A 95  +6285873213361      2\n",
       "3         Ivan Clark  Jl. D 40  +6289555965277      2\n",
       "4       Quincy Young  Jl. U 12  +6289789426381      2\n",
       "..               ...       ...             ...    ...\n",
       "95    Alice Williams  Jl. Q 93  +6287194196367      2\n",
       "96       Alice White  Jl. V 95  +6289243193237      3\n",
       "97    Grace Martinez  Jl. P 41  +6282857782156      2\n",
       "98        John Lewis  Jl. Z 20  +6282258644532      2\n",
       "99   Ursula Anderson  Jl. V 84  +6288857764356      2\n",
       "\n",
       "[100 rows x 4 columns]"
      ]
     },
     "execution_count": 24,
     "metadata": {},
     "output_type": "execute_result"
    }
   ],
   "source": [
    "df"
   ]
  },
  {
   "cell_type": "code",
   "execution_count": null,
   "metadata": {},
   "outputs": [],
   "source": []
  }
 ],
 "metadata": {
  "kernelspec": {
   "display_name": "Python 3",
   "language": "python",
   "name": "python3"
  },
  "language_info": {
   "codemirror_mode": {
    "name": "ipython",
    "version": 3
   },
   "file_extension": ".py",
   "mimetype": "text/x-python",
   "name": "python",
   "nbconvert_exporter": "python",
   "pygments_lexer": "ipython3",
   "version": "3.10.9"
  }
 },
 "nbformat": 4,
 "nbformat_minor": 2
}
